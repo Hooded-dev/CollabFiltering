{
  "nbformat": 4,
  "nbformat_minor": 5,
  "metadata": {
    "colab": {
      "name": "LSTM trail OG.ipynb",
      "provenance": [],
      "include_colab_link": true
    },
    "kernelspec": {
      "display_name": "Python 3",
      "language": "python",
      "name": "python3"
    },
    "language_info": {
      "codemirror_mode": {
        "name": "ipython",
        "version": 3
      },
      "file_extension": ".py",
      "mimetype": "text/x-python",
      "name": "python",
      "nbconvert_exporter": "python",
      "pygments_lexer": "ipython3",
      "version": "3.7.10"
    },
    "papermill": {
      "default_parameters": {},
      "duration": 2169.835627,
      "end_time": "2021-11-11T10:23:15.631310",
      "environment_variables": {},
      "exception": true,
      "input_path": "__notebook__.ipynb",
      "output_path": "__notebook__.ipynb",
      "parameters": {},
      "start_time": "2021-11-11T09:47:05.795683",
      "version": "2.3.3"
    }
  },
  "cells": [
    {
      "cell_type": "markdown",
      "metadata": {
        "id": "view-in-github",
        "colab_type": "text"
      },
      "source": [
        "<a href=\"https://colab.research.google.com/github/Hooded-dev/CollabFiltering/blob/main/LSTM_trail_OG.ipynb\" target=\"_parent\"><img src=\"https://colab.research.google.com/assets/colab-badge.svg\" alt=\"Open In Colab\"/></a>"
      ]
    },
    {
      "cell_type": "code",
      "metadata": {
        "colab": {
          "base_uri": "https://localhost:8080/"
        },
        "id": "1849b910",
        "outputId": "6cab8aa5-f861-4ab4-99b1-fafec18e4c29"
      },
      "source": [
        "import numpy as np\n",
        "import keras\n",
        "from  keras.preprocessing.text import Tokenizer\n",
        "from keras.preprocessing.sequence import pad_sequences\n",
        "import os\n",
        "import pandas as pd\n",
        "from tensorflow.keras.utils import to_categorical\n",
        "import matplotlib.pyplot as plt\n",
        "from sklearn.metrics import classification_report\n",
        "!pip install scikit-plot\n",
        "import scikitplot\n",
        "from scikitplot.metrics import plot_confusion_matrix"
      ],
      "id": "1849b910",
      "execution_count": 40,
      "outputs": [
        {
          "output_type": "stream",
          "name": "stdout",
          "text": [
            "Requirement already satisfied: scikit-plot in /usr/local/lib/python3.7/dist-packages (0.3.7)\n",
            "Requirement already satisfied: scipy>=0.9 in /usr/local/lib/python3.7/dist-packages (from scikit-plot) (1.4.1)\n",
            "Requirement already satisfied: scikit-learn>=0.18 in /usr/local/lib/python3.7/dist-packages (from scikit-plot) (1.0.1)\n",
            "Requirement already satisfied: matplotlib>=1.4.0 in /usr/local/lib/python3.7/dist-packages (from scikit-plot) (3.2.2)\n",
            "Requirement already satisfied: joblib>=0.10 in /usr/local/lib/python3.7/dist-packages (from scikit-plot) (1.1.0)\n",
            "Requirement already satisfied: cycler>=0.10 in /usr/local/lib/python3.7/dist-packages (from matplotlib>=1.4.0->scikit-plot) (0.11.0)\n",
            "Requirement already satisfied: numpy>=1.11 in /usr/local/lib/python3.7/dist-packages (from matplotlib>=1.4.0->scikit-plot) (1.19.5)\n",
            "Requirement already satisfied: pyparsing!=2.0.4,!=2.1.2,!=2.1.6,>=2.0.1 in /usr/local/lib/python3.7/dist-packages (from matplotlib>=1.4.0->scikit-plot) (3.0.6)\n",
            "Requirement already satisfied: kiwisolver>=1.0.1 in /usr/local/lib/python3.7/dist-packages (from matplotlib>=1.4.0->scikit-plot) (1.3.2)\n",
            "Requirement already satisfied: python-dateutil>=2.1 in /usr/local/lib/python3.7/dist-packages (from matplotlib>=1.4.0->scikit-plot) (2.8.2)\n",
            "Requirement already satisfied: six>=1.5 in /usr/local/lib/python3.7/dist-packages (from python-dateutil>=2.1->matplotlib>=1.4.0->scikit-plot) (1.15.0)\n",
            "Requirement already satisfied: threadpoolctl>=2.0.0 in /usr/local/lib/python3.7/dist-packages (from scikit-learn>=0.18->scikit-plot) (3.0.0)\n"
          ]
        }
      ]
    },
    {
      "cell_type": "code",
      "metadata": {
        "id": "G3Txq08qTyRX"
      },
      "source": [
        "ntrain = pd.read_csv('/content/text_emotion.csv', sep =',', encoding='utf-8')\n",
        "ntest = pd.read_csv('/content/text emo.txt', sep =',', encoding='utf-8')"
      ],
      "id": "G3Txq08qTyRX",
      "execution_count": 41,
      "outputs": []
    },
    {
      "cell_type": "code",
      "metadata": {
        "colab": {
          "base_uri": "https://localhost:8080/",
          "height": 268
        },
        "id": "57aa902f",
        "outputId": "b6bd2d23-22ce-45d0-9e8c-8a4f7d521a76"
      },
      "source": [
        "ntrain.head(7)"
      ],
      "id": "57aa902f",
      "execution_count": 42,
      "outputs": [
        {
          "output_type": "execute_result",
          "data": {
            "text/html": [
              "<div>\n",
              "<style scoped>\n",
              "    .dataframe tbody tr th:only-of-type {\n",
              "        vertical-align: middle;\n",
              "    }\n",
              "\n",
              "    .dataframe tbody tr th {\n",
              "        vertical-align: top;\n",
              "    }\n",
              "\n",
              "    .dataframe thead th {\n",
              "        text-align: right;\n",
              "    }\n",
              "</style>\n",
              "<table border=\"1\" class=\"dataframe\">\n",
              "  <thead>\n",
              "    <tr style=\"text-align: right;\">\n",
              "      <th></th>\n",
              "      <th>tweet_id</th>\n",
              "      <th>sentiment</th>\n",
              "      <th>author</th>\n",
              "      <th>content</th>\n",
              "    </tr>\n",
              "  </thead>\n",
              "  <tbody>\n",
              "    <tr>\n",
              "      <th>0</th>\n",
              "      <td>1956967341</td>\n",
              "      <td>empty</td>\n",
              "      <td>xoshayzers</td>\n",
              "      <td>@tiffanylue i know  i was listenin to bad habi...</td>\n",
              "    </tr>\n",
              "    <tr>\n",
              "      <th>1</th>\n",
              "      <td>1956967666</td>\n",
              "      <td>sadness</td>\n",
              "      <td>wannamama</td>\n",
              "      <td>Layin n bed with a headache  ughhhh...waitin o...</td>\n",
              "    </tr>\n",
              "    <tr>\n",
              "      <th>2</th>\n",
              "      <td>1956967696</td>\n",
              "      <td>sadness</td>\n",
              "      <td>coolfunky</td>\n",
              "      <td>Funeral ceremony...gloomy friday...</td>\n",
              "    </tr>\n",
              "    <tr>\n",
              "      <th>3</th>\n",
              "      <td>1956967789</td>\n",
              "      <td>enthusiasm</td>\n",
              "      <td>czareaquino</td>\n",
              "      <td>wants to hang out with friends SOON!</td>\n",
              "    </tr>\n",
              "    <tr>\n",
              "      <th>4</th>\n",
              "      <td>1956968416</td>\n",
              "      <td>neutral</td>\n",
              "      <td>xkilljoyx</td>\n",
              "      <td>@dannycastillo We want to trade with someone w...</td>\n",
              "    </tr>\n",
              "    <tr>\n",
              "      <th>5</th>\n",
              "      <td>1956968477</td>\n",
              "      <td>worry</td>\n",
              "      <td>xxxPEACHESxxx</td>\n",
              "      <td>Re-pinging @ghostridah14: why didn't you go to...</td>\n",
              "    </tr>\n",
              "    <tr>\n",
              "      <th>6</th>\n",
              "      <td>1956968487</td>\n",
              "      <td>sadness</td>\n",
              "      <td>ShansBee</td>\n",
              "      <td>I should be sleep, but im not! thinking about ...</td>\n",
              "    </tr>\n",
              "  </tbody>\n",
              "</table>\n",
              "</div>"
            ],
            "text/plain": [
              "     tweet_id  ...                                            content\n",
              "0  1956967341  ...  @tiffanylue i know  i was listenin to bad habi...\n",
              "1  1956967666  ...  Layin n bed with a headache  ughhhh...waitin o...\n",
              "2  1956967696  ...                Funeral ceremony...gloomy friday...\n",
              "3  1956967789  ...               wants to hang out with friends SOON!\n",
              "4  1956968416  ...  @dannycastillo We want to trade with someone w...\n",
              "5  1956968477  ...  Re-pinging @ghostridah14: why didn't you go to...\n",
              "6  1956968487  ...  I should be sleep, but im not! thinking about ...\n",
              "\n",
              "[7 rows x 4 columns]"
            ]
          },
          "metadata": {},
          "execution_count": 42
        }
      ]
    },
    {
      "cell_type": "code",
      "metadata": {
        "id": "Uqrxw9nccsFP"
      },
      "source": [
        "ntrain['content'] = ntrain['content'].str.replace('\\@[a-zA-Z0-9]*', '',regex=True)\n",
        "ntrain['content'] = ntrain['content'].str.lower()\n",
        "ntrain=ntrain.drop(columns=['tweet_id','author'])\n",
        "ntest['content'] = ntest['content'].str.replace('\\@[a-zA-Z0-9]*', '',regex=True)\n",
        "ntest['content'] = ntest['content'].str.lower()\n",
        "ntest=ntest.drop(columns=['tweet_id','author'])\n",
        "#df[c].str.replace('[^\\d.]', '')\n",
        "#re.sub('\\@[a-zA-Z0-9]*', ' ', text)"
      ],
      "id": "Uqrxw9nccsFP",
      "execution_count": 43,
      "outputs": []
    },
    {
      "cell_type": "code",
      "metadata": {
        "colab": {
          "base_uri": "https://localhost:8080/"
        },
        "id": "c03b3058",
        "outputId": "31b89f4d-b2e2-4ab2-b418-54ff8d30aea6"
      },
      "source": [
        "ntrain.sentiment.value_counts()"
      ],
      "id": "c03b3058",
      "execution_count": 44,
      "outputs": [
        {
          "output_type": "execute_result",
          "data": {
            "text/plain": [
              "neutral       8638\n",
              "worry         8459\n",
              "happiness     5209\n",
              "sadness       5165\n",
              "love          3842\n",
              "surprise      2187\n",
              "fun           1776\n",
              "relief        1526\n",
              "hate          1323\n",
              "empty          827\n",
              "enthusiasm     759\n",
              "boredom        179\n",
              "anger          110\n",
              "Name: sentiment, dtype: int64"
            ]
          },
          "metadata": {},
          "execution_count": 44
        }
      ]
    },
    {
      "cell_type": "markdown",
      "metadata": {
        "id": "2eb3b25c"
      },
      "source": [
        "### Reading train and validation data"
      ],
      "id": "2eb3b25c"
    },
    {
      "cell_type": "code",
      "metadata": {
        "id": "7a8aade8"
      },
      "source": [
        "X=ntrain['content']"
      ],
      "id": "7a8aade8",
      "execution_count": 45,
      "outputs": []
    },
    {
      "cell_type": "code",
      "metadata": {
        "id": "1aa992a9"
      },
      "source": [
        "lst=[]\n",
        "for i in X:\n",
        "  lst.append(len(i))"
      ],
      "id": "1aa992a9",
      "execution_count": 46,
      "outputs": []
    },
    {
      "cell_type": "code",
      "metadata": {
        "id": "7cd0c554"
      },
      "source": [
        "len1=pd.DataFrame(lst)"
      ],
      "id": "7cd0c554",
      "execution_count": 47,
      "outputs": []
    },
    {
      "cell_type": "code",
      "metadata": {
        "id": "602b0293"
      },
      "source": [
        "cts=[]\n",
        "for i in range(7,301):\n",
        "   ct=0\n",
        "   for k in lst:\n",
        "     if k==i:\n",
        "       ct+=1\n",
        "   cts.append(ct)\n"
      ],
      "id": "602b0293",
      "execution_count": 48,
      "outputs": []
    },
    {
      "cell_type": "markdown",
      "metadata": {
        "id": "5ec673ed"
      },
      "source": [
        "## Try to fix the length of the embadding layers input"
      ],
      "id": "5ec673ed"
    },
    {
      "cell_type": "code",
      "metadata": {
        "colab": {
          "base_uri": "https://localhost:8080/",
          "height": 265
        },
        "id": "dc79fde3",
        "outputId": "3977ba05-322f-4188-c697-9933e6626c66"
      },
      "source": [
        "plt.bar(range(7,301),cts)\n",
        "plt.show()"
      ],
      "id": "dc79fde3",
      "execution_count": 49,
      "outputs": [
        {
          "output_type": "display_data",
          "data": {
            "image/png": "[encoded data removed]",
            "text/plain": [
              "<Figure size 432x288 with 1 Axes>"
            ]
          },
          "metadata": {
            "needs_background": "light"
          }
        }
      ]
    },
    {
      "cell_type": "markdown",
      "metadata": {
        "id": "c957488a"
      },
      "source": [
        "## Using the tokenizer Class to convert the sentences into word vectors"
      ],
      "id": "c957488a"
    },
    {
      "cell_type": "code",
      "metadata": {
        "id": "ab33e855"
      },
      "source": [
        "tokenizer=Tokenizer(15212,lower=True,oov_token='UNK')\n",
        "tokenizer.fit_on_texts(X)"
      ],
      "id": "ab33e855",
      "execution_count": 50,
      "outputs": []
    },
    {
      "cell_type": "code",
      "metadata": {
        "colab": {
          "base_uri": "https://localhost:8080/"
        },
        "id": "6e4b713d",
        "outputId": "8b884171-376e-422d-b23d-1598a6168f14"
      },
      "source": [
        "len(tokenizer.word_index)"
      ],
      "id": "6e4b713d",
      "execution_count": 51,
      "outputs": [
        {
          "output_type": "execute_result",
          "data": {
            "text/plain": [
              "33873"
            ]
          },
          "metadata": {},
          "execution_count": 51
        }
      ]
    },
    {
      "cell_type": "code",
      "metadata": {
        "id": "48e971ac"
      },
      "source": [
        "X_train=tokenizer.texts_to_sequences(X)\n",
        "X_train_pad=pad_sequences(X_train,maxlen=80,padding='post')"
      ],
      "id": "48e971ac",
      "execution_count": 52,
      "outputs": []
    },
    {
      "cell_type": "code",
      "metadata": {
        "colab": {
          "base_uri": "https://localhost:8080/"
        },
        "id": "_KVGD_CnhIE0",
        "outputId": "41e1ab0f-40cd-4535-908c-1aca34dd1b0c"
      },
      "source": [
        "ntrain['sentiment'].unique()"
      ],
      "id": "_KVGD_CnhIE0",
      "execution_count": 235,
      "outputs": [
        {
          "output_type": "execute_result",
          "data": {
            "text/plain": [
              "array([ 2, 10,  3,  8, 12, 11,  7,  4,  6,  5,  1,  9,  0])"
            ]
          },
          "metadata": {},
          "execution_count": 235
        }
      ]
    },
    {
      "cell_type": "code",
      "metadata": {
        "id": "f99f1d06"
      },
      "source": [
        "from sklearn import preprocessing\n",
        "le = preprocessing.LabelEncoder()\n",
        "ntrain['sentiment']= le.fit_transform(ntrain['sentiment'])"
      ],
      "id": "f99f1d06",
      "execution_count": 236,
      "outputs": []
    },
    {
      "cell_type": "code",
      "metadata": {
        "id": "eeIJnuyAD-mv"
      },
      "source": [
        "Y_train=ntrain['sentiment'].values"
      ],
      "id": "eeIJnuyAD-mv",
      "execution_count": 237,
      "outputs": []
    },
    {
      "cell_type": "code",
      "metadata": {
        "id": "SoDkBNlbHK2_"
      },
      "source": [
        "Y_train_f=to_categorical(Y_train)"
      ],
      "id": "SoDkBNlbHK2_",
      "execution_count": 238,
      "outputs": []
    },
    {
      "cell_type": "code",
      "metadata": {
        "id": "-wfDP5Ljk-ab"
      },
      "source": [
        "import numpy as np\n",
        "from sklearn.model_selection import train_test_split\n",
        "X_train, y_train, = train_test_split(ntrain,  test_size=0.33, random_state=42)"
      ],
      "id": "-wfDP5Ljk-ab",
      "execution_count": 239,
      "outputs": []
    },
    {
      "cell_type": "code",
      "metadata": {
        "colab": {
          "base_uri": "https://localhost:8080/"
        },
        "id": "VXsBUxehl-KJ",
        "outputId": "a7d86475-69ee-4388-a5b9-c524eef2b088"
      },
      "source": [
        "X_val=y_train['content']\n",
        "X_val"
      ],
      "id": "VXsBUxehl-KJ",
      "execution_count": 240,
      "outputs": [
        {
          "output_type": "execute_result",
          "data": {
            "text/plain": [
              "32823                                         good morning\n",
              "16298    i just put my computer up on craigslist. i've ...\n",
              "28505    in ten minutes shopping   demi lovato-back aro...\n",
              "6689     from twitterberry moved to ubertwitter - suffe...\n",
              "26893                                                tear*\n",
              "                               ...                        \n",
              "35934    the sun is shining brightly and the day has ju...\n",
              "403                                      my dog ran awayyy\n",
              "35953     hi  you are such a babe. want to hang? i love...\n",
              "14218    im feeling like ish!  i just wanna go home and...\n",
              "4736     i think my cheap sunglasses are falling apart....\n",
              "Name: content, Length: 13200, dtype: object"
            ]
          },
          "metadata": {},
          "execution_count": 240
        }
      ]
    },
    {
      "cell_type": "code",
      "metadata": {
        "id": "uAGiuAHSEcNv"
      },
      "source": [
        "y_val=y_train.sentiment.values"
      ],
      "id": "uAGiuAHSEcNv",
      "execution_count": 63,
      "outputs": []
    },
    {
      "cell_type": "code",
      "metadata": {
        "id": "F81sshneE9M-"
      },
      "source": [
        "X_val_f=tokenizer.texts_to_sequences(X_val)\n",
        "X_val_pad=pad_sequences(X_val_f,maxlen=80,padding='post')"
      ],
      "id": "F81sshneE9M-",
      "execution_count": 64,
      "outputs": []
    },
    {
      "cell_type": "code",
      "metadata": {
        "id": "8V8HWa6XGK-G"
      },
      "source": [
        "Y_val_f=to_categorical(y_val)"
      ],
      "id": "8V8HWa6XGK-G",
      "execution_count": 65,
      "outputs": []
    },
    {
      "cell_type": "code",
      "metadata": {
        "id": "gVCUjdXfGu1J"
      },
      "source": [
        "from keras.models import Sequential\n",
        "from keras.layers import LSTM,Bidirectional,Dense,Embedding,Dropout"
      ],
      "id": "gVCUjdXfGu1J",
      "execution_count": 66,
      "outputs": []
    },
    {
      "cell_type": "code",
      "metadata": {
        "colab": {
          "base_uri": "https://localhost:8080/"
        },
        "id": "JVAEfa89GyI0",
        "outputId": "77381400-a345-4124-dd57-4875cea55b1e"
      },
      "source": [
        "model=Sequential()\n",
        "model.add(Embedding(15212,64,input_length=80))\n",
        "model.add(Dropout(0.6))\n",
        "model.add(Bidirectional(LSTM(80,return_sequences=True)))\n",
        "model.add(Bidirectional(LSTM(160)))\n",
        "model.add(Dense(13,activation='softmax'))\n",
        "print(model.summary())"
      ],
      "id": "JVAEfa89GyI0",
      "execution_count": 67,
      "outputs": [
        {
          "output_type": "stream",
          "name": "stdout",
          "text": [
            "Model: \"sequential\"\n",
            "_________________________________________________________________\n",
            " Layer (type)                Output Shape              Param #   \n",
            "=================================================================\n",
            " embedding (Embedding)       (None, 80, 64)            973568    \n",
            "                                                                 \n",
            " dropout (Dropout)           (None, 80, 64)            0         \n",
            "                                                                 \n",
            " bidirectional (Bidirectiona  (None, 80, 160)          92800     \n",
            " l)                                                              \n",
            "                                                                 \n",
            " bidirectional_1 (Bidirectio  (None, 320)              410880    \n",
            " nal)                                                            \n",
            "                                                                 \n",
            " dense (Dense)               (None, 13)                4173      \n",
            "                                                                 \n",
            "=================================================================\n",
            "Total params: 1,481,421\n",
            "Trainable params: 1,481,421\n",
            "Non-trainable params: 0\n",
            "_________________________________________________________________\n",
            "None\n"
          ]
        }
      ]
    },
    {
      "cell_type": "code",
      "metadata": {
        "id": "xKjNk5qaG38H"
      },
      "source": [
        "model.compile(optimizer='adam',loss='categorical_crossentropy',metrics=['accuracy'])"
      ],
      "id": "xKjNk5qaG38H",
      "execution_count": 68,
      "outputs": []
    },
    {
      "cell_type": "code",
      "metadata": {
        "colab": {
          "base_uri": "https://localhost:8080/"
        },
        "id": "8FRO_AYRG8U-",
        "outputId": "78e34aff-b8ac-461f-ff08-87ec2af479a3"
      },
      "source": [
        "hist=model.fit(X_train_pad,Y_train_f,epochs=12,validation_data=(X_val_pad,Y_val_f))"
      ],
      "id": "8FRO_AYRG8U-",
      "execution_count": 73,
      "outputs": [
        {
          "output_type": "stream",
          "name": "stdout",
          "text": [
            "Epoch 1/12\n",
            "1250/1250 [==============================] - 607s 481ms/step - loss: 2.0013 - accuracy: 0.3088 - val_loss: 1.8480 - val_accuracy: 0.3686\n",
            "Epoch 2/12\n",
            "1250/1250 [==============================] - 596s 477ms/step - loss: 1.8607 - accuracy: 0.3673 - val_loss: 1.7629 - val_accuracy: 0.4120\n",
            "Epoch 3/12\n",
            "1250/1250 [==============================] - 599s 479ms/step - loss: 1.7855 - accuracy: 0.3958 - val_loss: 1.6659 - val_accuracy: 0.4489\n",
            "Epoch 4/12\n",
            "1250/1250 [==============================] - 601s 481ms/step - loss: 1.7207 - accuracy: 0.4184 - val_loss: 1.5723 - val_accuracy: 0.4800\n",
            "Epoch 5/12\n",
            "1250/1250 [==============================] - 602s 481ms/step - loss: 1.6583 - accuracy: 0.4436 - val_loss: 1.5045 - val_accuracy: 0.5123\n",
            "Epoch 6/12\n",
            "1250/1250 [==============================] - 596s 477ms/step - loss: 1.5953 - accuracy: 0.4669 - val_loss: 1.3959 - val_accuracy: 0.5473\n",
            "Epoch 7/12\n",
            "1250/1250 [==============================] - 591s 472ms/step - loss: 1.5359 - accuracy: 0.4915 - val_loss: 1.3324 - val_accuracy: 0.5736\n",
            "Epoch 8/12\n",
            "1250/1250 [==============================] - 589s 471ms/step - loss: 1.4718 - accuracy: 0.5099 - val_loss: 1.2647 - val_accuracy: 0.5946\n",
            "Epoch 9/12\n",
            "1250/1250 [==============================] - 592s 474ms/step - loss: 1.4159 - accuracy: 0.5310 - val_loss: 1.1911 - val_accuracy: 0.6195\n",
            "Epoch 10/12\n",
            "1250/1250 [==============================] - 596s 477ms/step - loss: 1.3705 - accuracy: 0.5458 - val_loss: 1.1407 - val_accuracy: 0.6296\n",
            "Epoch 11/12\n",
            "1250/1250 [==============================] - 597s 477ms/step - loss: 1.3229 - accuracy: 0.5606 - val_loss: 1.0760 - val_accuracy: 0.6589\n",
            "Epoch 12/12\n",
            "1250/1250 [==============================] - 592s 474ms/step - loss: 1.2830 - accuracy: 0.5707 - val_loss: 1.0423 - val_accuracy: 0.6648\n"
          ]
        }
      ]
    },
    {
      "cell_type": "code",
      "metadata": {
        "colab": {
          "base_uri": "https://localhost:8080/",
          "height": 428
        },
        "id": "6MbIr1QIHhtQ",
        "outputId": "079229f7-4d24-4c7b-e11a-5c053657c1bd"
      },
      "source": [
        "import matplotlib.pyplot as plt\n",
        " \n",
        "history_dict = hist.history\n",
        "loss_values = history_dict['loss']\n",
        "val_loss_values = history_dict['val_loss']\n",
        "accuracy = history_dict['accuracy']\n",
        "val_accuracy = history_dict['val_accuracy']\n",
        " \n",
        "epochs = range(1, len(loss_values) + 1)\n",
        "fig, ax = plt.subplots(1, 2, figsize=(14, 6))\n",
        "#\n",
        "# Plot the model accuracy vs Epochs\n",
        "#\n",
        "ax[0].plot(epochs, accuracy, 'bo', label='Training accuracy')\n",
        "ax[0].plot(epochs, val_accuracy, 'b', label='Validation accuracy')\n",
        "ax[0].set_title('Training & Validation Accuracy', fontsize=16)\n",
        "ax[0].set_xlabel('Epochs', fontsize=16)\n",
        "ax[0].set_ylabel('Accuracy', fontsize=16)\n",
        "ax[0].legend()\n",
        "#\n",
        "# Plot the loss vs Epochs\n",
        "#\n",
        "ax[1].plot(epochs, loss_values, 'bo', label='Training loss')\n",
        "ax[1].plot(epochs, val_loss_values, 'b', label='Validation loss')\n",
        "ax[1].set_title('Training & Validation Loss', fontsize=16)\n",
        "ax[1].set_xlabel('Epochs', fontsize=16)\n",
        "ax[1].set_ylabel('Loss', fontsize=16)\n",
        "ax[1].legend()"
      ],
      "id": "6MbIr1QIHhtQ",
      "execution_count": 74,
      "outputs": [
        {
          "output_type": "execute_result",
          "data": {
            "text/plain": [
              "<matplotlib.legend.Legend at 0x7f27e01d6d10>"
            ]
          },
          "metadata": {},
          "execution_count": 74
        },
        {
          "output_type": "display_data",
          "data": {
            "image/png": "[encoded data removed]",
            "text/plain": [
              "<Figure size 1008x432 with 2 Axes>"
            ]
          },
          "metadata": {
            "needs_background": "light"
          }
        }
      ]
    },
    {
      "cell_type": "markdown",
      "metadata": {
        "id": "2ce5e0e8"
      },
      "source": [
        "## Checking test dataset"
      ],
      "id": "2ce5e0e8"
    },
    {
      "cell_type": "code",
      "metadata": {
        "id": "c0977407"
      },
      "source": [
        "X_test=ntest['content']\n",
        "ntrain['sentiment']= le.fit_transform(ntrain['sentiment'])\n",
        "Y_test=ntrain['sentiment']"
      ],
      "id": "c0977407",
      "execution_count": 215,
      "outputs": []
    },
    {
      "cell_type": "code",
      "metadata": {
        "id": "7f33a14f"
      },
      "source": [
        "X_test_f=tokenizer.texts_to_sequences(X_test)"
      ],
      "id": "7f33a14f",
      "execution_count": 220,
      "outputs": []
    },
    {
      "cell_type": "code",
      "metadata": {
        "id": "ZetVSggi3T0C"
      },
      "source": [
        "X_test_pad=pad_sequences(X_test_f,maxlen=80,padding='post')"
      ],
      "id": "ZetVSggi3T0C",
      "execution_count": 218,
      "outputs": []
    },
    {
      "cell_type": "code",
      "metadata": {
        "colab": {
          "base_uri": "https://localhost:8080/"
        },
        "id": "VLFzUj8i3yV5",
        "outputId": "3c98824e-3484-4154-851a-f2bd1312fbd9"
      },
      "source": [
        "X_test_pad.shape"
      ],
      "id": "VLFzUj8i3yV5",
      "execution_count": 221,
      "outputs": [
        {
          "output_type": "execute_result",
          "data": {
            "text/plain": [
              "(39673, 80)"
            ]
          },
          "metadata": {},
          "execution_count": 221
        }
      ]
    },
    {
      "cell_type": "code",
      "metadata": {
        "id": "705de279"
      },
      "source": [
        "Y_test_f=to_categorical(Y_test)"
      ],
      "id": "705de279",
      "execution_count": 202,
      "outputs": []
    },
    {
      "cell_type": "code",
      "metadata": {
        "colab": {
          "base_uri": "https://localhost:8080/"
        },
        "id": "DSc1Wff9k43P",
        "outputId": "583810c5-d561-4883-c978-086f5e724c1a"
      },
      "source": [
        "Y_test_f.shape"
      ],
      "id": "DSc1Wff9k43P",
      "execution_count": 203,
      "outputs": [
        {
          "output_type": "execute_result",
          "data": {
            "text/plain": [
              "(40000, 13)"
            ]
          },
          "metadata": {},
          "execution_count": 203
        }
      ]
    },
    {
      "cell_type": "code",
      "metadata": {
        "id": "dcd94b71",
        "colab": {
          "base_uri": "https://localhost:8080/"
        },
        "outputId": "9e3ab680-103c-44b3-ffac-f19a58848876"
      },
      "source": [
        "X_test_pad.shape"
      ],
      "id": "dcd94b71",
      "execution_count": 204,
      "outputs": [
        {
          "output_type": "execute_result",
          "data": {
            "text/plain": [
              "(39673, 80)"
            ]
          },
          "metadata": {},
          "execution_count": 204
        }
      ]
    },
    {
      "cell_type": "code",
      "metadata": {
        "id": "jf5nxT5Gx0eH"
      },
      "source": [
        "Y_test_f1 = Y_test_f[:-327]"
      ],
      "id": "jf5nxT5Gx0eH",
      "execution_count": 205,
      "outputs": []
    },
    {
      "cell_type": "code",
      "metadata": {
        "colab": {
          "base_uri": "https://localhost:8080/"
        },
        "id": "_e-nftHe0Tyv",
        "outputId": "69172ef8-9754-4711-8e4f-b0947f0d395f"
      },
      "source": [
        "Y_test_f1.shape"
      ],
      "id": "_e-nftHe0Tyv",
      "execution_count": 206,
      "outputs": [
        {
          "output_type": "execute_result",
          "data": {
            "text/plain": [
              "(39673, 13)"
            ]
          },
          "metadata": {},
          "execution_count": 206
        }
      ]
    },
    {
      "cell_type": "code",
      "metadata": {
        "id": "NmRmx41_u8aV"
      },
      "source": [
        "#while True:pass"
      ],
      "id": "NmRmx41_u8aV",
      "execution_count": null,
      "outputs": []
    },
    {
      "cell_type": "markdown",
      "metadata": {
        "id": "0c800453"
      },
      "source": [
        "## Saving model\n"
      ],
      "id": "0c800453"
    },
    {
      "cell_type": "code",
      "metadata": {
        "colab": {
          "base_uri": "https://localhost:8080/"
        },
        "id": "b9uT0-JRjzjm",
        "outputId": "3eb8b775-7675-48e2-a7d8-c717b5172a5b"
      },
      "source": [
        "from google.colab import drive\n",
        "drive.mount('/content/drive')"
      ],
      "id": "b9uT0-JRjzjm",
      "execution_count": 185,
      "outputs": [
        {
          "output_type": "stream",
          "name": "stdout",
          "text": [
            "Drive already mounted at /content/drive; to attempt to forcibly remount, call drive.mount(\"/content/drive\", force_remount=True).\n"
          ]
        }
      ]
    },
    {
      "cell_type": "code",
      "metadata": {
        "id": "7ed29ea6",
        "colab": {
          "base_uri": "https://localhost:8080/"
        },
        "outputId": "1cb53ee0-1b44-4515-9cdf-ae993c889e03"
      },
      "source": [
        "model.save('/content/drive/MyDrive/LSTM_model/')"
      ],
      "id": "7ed29ea6",
      "execution_count": 81,
      "outputs": [
        {
          "output_type": "stream",
          "name": "stderr",
          "text": [
            "WARNING:absl:Found untraced functions such as lstm_cell_1_layer_call_fn, lstm_cell_1_layer_call_and_return_conditional_losses, lstm_cell_2_layer_call_fn, lstm_cell_2_layer_call_and_return_conditional_losses, lstm_cell_4_layer_call_fn while saving (showing 5 of 20). These functions will not be directly callable after loading.\n"
          ]
        },
        {
          "output_type": "stream",
          "name": "stdout",
          "text": [
            "INFO:tensorflow:Assets written to: /content/drive/MyDrive/LSTM_model/assets\n"
          ]
        },
        {
          "output_type": "stream",
          "name": "stderr",
          "text": [
            "INFO:tensorflow:Assets written to: /content/drive/MyDrive/LSTM_model/assets\n",
            "WARNING:absl:<keras.layers.recurrent.LSTMCell object at 0x7f27eb590e10> has the same name 'LSTMCell' as a built-in Keras object. Consider renaming <class 'keras.layers.recurrent.LSTMCell'> to avoid naming conflicts when loading with `tf.keras.models.load_model`. If renaming is not possible, pass the object in the `custom_objects` parameter of the load function.\n",
            "WARNING:absl:<keras.layers.recurrent.LSTMCell object at 0x7f27eb714050> has the same name 'LSTMCell' as a built-in Keras object. Consider renaming <class 'keras.layers.recurrent.LSTMCell'> to avoid naming conflicts when loading with `tf.keras.models.load_model`. If renaming is not possible, pass the object in the `custom_objects` parameter of the load function.\n",
            "WARNING:absl:<keras.layers.recurrent.LSTMCell object at 0x7f27eb4f6650> has the same name 'LSTMCell' as a built-in Keras object. Consider renaming <class 'keras.layers.recurrent.LSTMCell'> to avoid naming conflicts when loading with `tf.keras.models.load_model`. If renaming is not possible, pass the object in the `custom_objects` parameter of the load function.\n",
            "WARNING:absl:<keras.layers.recurrent.LSTMCell object at 0x7f27eb4ba7d0> has the same name 'LSTMCell' as a built-in Keras object. Consider renaming <class 'keras.layers.recurrent.LSTMCell'> to avoid naming conflicts when loading with `tf.keras.models.load_model`. If renaming is not possible, pass the object in the `custom_objects` parameter of the load function.\n"
          ]
        }
      ]
    },
    {
      "cell_type": "markdown",
      "metadata": {
        "id": "91bdebc3"
      },
      "source": [
        "## Accuracy "
      ],
      "id": "91bdebc3"
    },
    {
      "cell_type": "code",
      "metadata": {
        "id": "070ac351",
        "colab": {
          "base_uri": "https://localhost:8080/"
        },
        "outputId": "40b4d1a5-29cd-4bed-a2b1-7a500f734656"
      },
      "source": [
        "model.evaluate(X_test_pad,Y_test_f1)"
      ],
      "id": "070ac351",
      "execution_count": 208,
      "outputs": [
        {
          "output_type": "stream",
          "name": "stdout",
          "text": [
            "1240/1240 [==============================] - 170s 137ms/step - loss: 3.0301 - accuracy: 0.1998\n"
          ]
        },
        {
          "output_type": "execute_result",
          "data": {
            "text/plain": [
              "[3.03012752532959, 0.19975802302360535]"
            ]
          },
          "metadata": {},
          "execution_count": 208
        }
      ]
    },
    {
      "cell_type": "markdown",
      "metadata": {
        "id": "da08591f"
      },
      "source": [
        "## Load model"
      ],
      "id": "da08591f"
    },
    {
      "cell_type": "code",
      "metadata": {
        "id": "f6a4e097"
      },
      "source": [
        "model = keras.models.load_model('/content/drive/MyDrive/LSTM_model/')"
      ],
      "id": "f6a4e097",
      "execution_count": 209,
      "outputs": []
    },
    {
      "cell_type": "markdown",
      "metadata": {
        "id": "da5d7e9b"
      },
      "source": [
        "## Plotting confusion matrix"
      ],
      "id": "da5d7e9b"
    },
    {
      "cell_type": "code",
      "metadata": {
        "id": "3ae99e06"
      },
      "source": [
        "from keras.models import Sequential"
      ],
      "id": "3ae99e06",
      "execution_count": 210,
      "outputs": []
    },
    {
      "cell_type": "code",
      "metadata": {
        "id": "225090a8"
      },
      "source": [
        "Y_pred = np.argmax(model.predict(X_test_pad), axis=-1)"
      ],
      "id": "225090a8",
      "execution_count": 211,
      "outputs": []
    },
    {
      "cell_type": "code",
      "metadata": {
        "id": "ja2Fw8OX4PS3"
      },
      "source": [
        "Y_test = Y_test[:-327]"
      ],
      "id": "ja2Fw8OX4PS3",
      "execution_count": 224,
      "outputs": []
    },
    {
      "cell_type": "code",
      "metadata": {
        "id": "28061916",
        "colab": {
          "base_uri": "https://localhost:8080/",
          "height": 312
        },
        "outputId": "ee7f7064-7d08-40ec-be95-0a224a931e66"
      },
      "source": [
        "plot_confusion_matrix(Y_test,Y_pred)"
      ],
      "id": "28061916",
      "execution_count": 225,
      "outputs": [
        {
          "output_type": "execute_result",
          "data": {
            "text/plain": [
              "<matplotlib.axes._subplots.AxesSubplot at 0x7f27e04c6f90>"
            ]
          },
          "metadata": {},
          "execution_count": 225
        },
        {
          "output_type": "display_data",
          "data": {
            "image/png": "[encoded data removed]",
            "text/plain": [
              "<Figure size 432x288 with 2 Axes>"
            ]
          },
          "metadata": {
            "needs_background": "light"
          }
        }
      ]
    },
    {
      "cell_type": "code",
      "metadata": {
        "id": "a3622d28",
        "colab": {
          "base_uri": "https://localhost:8080/"
        },
        "outputId": "581f3fbf-3ec5-4503-8139-e69bb56df185"
      },
      "source": [
        "print(classification_report(Y_test,Y_pred))"
      ],
      "id": "a3622d28",
      "execution_count": 226,
      "outputs": [
        {
          "output_type": "stream",
          "name": "stdout",
          "text": [
            "              precision    recall  f1-score   support\n",
            "\n",
            "           0       0.00      0.00      0.00       110\n",
            "           1       0.00      0.00      0.00       178\n",
            "           2       0.02      0.00      0.01       821\n",
            "           3       0.00      0.00      0.00       745\n",
            "           4       0.05      0.02      0.03      1760\n",
            "           5       0.19      0.20      0.19      5123\n",
            "           6       0.05      0.04      0.04      1321\n",
            "           7       0.14      0.14      0.14      3789\n",
            "           8       0.23      0.29      0.25      8569\n",
            "           9       0.04      0.02      0.03      1513\n",
            "          10       0.19      0.17      0.18      5153\n",
            "          11       0.06      0.03      0.04      2170\n",
            "          12       0.26      0.33      0.29      8421\n",
            "\n",
            "    accuracy                           0.20     39673\n",
            "   macro avg       0.09      0.10      0.09     39673\n",
            "weighted avg       0.18      0.20      0.19     39673\n",
            "\n"
          ]
        }
      ]
    },
    {
      "cell_type": "markdown",
      "metadata": {
        "id": "f0835b56"
      },
      "source": [
        "## Function for inputs"
      ],
      "id": "f0835b56"
    },
    {
      "cell_type": "code",
      "metadata": {
        "id": "922f7c21"
      },
      "source": [
        "def get_key(value):\n",
        "    dictionary={'joy':0,'anger':1,'love':2,'sadness':3,'fear':4,'surprise':5}\n",
        "    for key,val in dictionary.items():\n",
        "          if (val==value):\n",
        "            return key\n",
        "        \n",
        "        "
      ],
      "id": "922f7c21",
      "execution_count": 227,
      "outputs": []
    },
    {
      "cell_type": "code",
      "metadata": {
        "id": "0a68ce69"
      },
      "source": [
        "def predict(sentence):\n",
        "  sentence_lst=[]\n",
        "  sentence_lst.append(sentence)\n",
        "  sentence_seq=tokenizer.texts_to_sequences(sentence_lst)\n",
        "  sentence_padded=pad_sequences(sentence_seq,maxlen=80,padding='post')\n",
        "  ans=get_key(np.argmax(model.predict(sentence_padded)))\n",
        "  print(\"The emotion predicted is\",ans)\n",
        "    "
      ],
      "id": "0a68ce69",
      "execution_count": 228,
      "outputs": []
    },
    {
      "cell_type": "markdown",
      "metadata": {
        "id": "a9bf8a6e"
      },
      "source": [
        "## Test your inputs"
      ],
      "id": "a9bf8a6e"
    },
    {
      "cell_type": "code",
      "metadata": {
        "id": "c3fcdfa1",
        "colab": {
          "base_uri": "https://localhost:8080/"
        },
        "outputId": "fd1b39ae-0b41-4e77-f4df-6d0c338e1d0f"
      },
      "source": [
        "predict(str(input('Enter a sentence : ')))\n"
      ],
      "id": "c3fcdfa1",
      "execution_count": 229,
      "outputs": [
        {
          "output_type": "stream",
          "name": "stdout",
          "text": [
            "Enter a sentence : wow\n",
            "The emotion predicted is None\n"
          ]
        }
      ]
    },
    {
      "cell_type": "code",
      "metadata": {
        "id": "8aa55fbb",
        "colab": {
          "base_uri": "https://localhost:8080/"
        },
        "outputId": "1a4036ae-2930-411b-be50-f4f3d323085f"
      },
      "source": [
        "predict(str(input('Enter a sentence : ')))"
      ],
      "id": "8aa55fbb",
      "execution_count": 230,
      "outputs": [
        {
          "output_type": "stream",
          "name": "stdout",
          "text": [
            "Enter a sentence : What is your problem\n",
            "The emotion predicted is None\n"
          ]
        }
      ]
    },
    {
      "cell_type": "code",
      "metadata": {
        "id": "4be852df"
      },
      "source": [
        ""
      ],
      "id": "4be852df",
      "execution_count": 230,
      "outputs": []
    },
    {
      "cell_type": "code",
      "metadata": {
        "id": "3c857584"
      },
      "source": [
        ""
      ],
      "id": "3c857584",
      "execution_count": null,
      "outputs": []
    },
    {
      "cell_type": "code",
      "metadata": {
        "id": "93b2710f"
      },
      "source": [
        ""
      ],
      "id": "93b2710f",
      "execution_count": null,
      "outputs": []
    }
  ]
}